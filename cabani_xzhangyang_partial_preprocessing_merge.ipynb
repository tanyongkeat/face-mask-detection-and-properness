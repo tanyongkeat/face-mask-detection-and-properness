{
 "cells": [
  {
   "cell_type": "code",
   "execution_count": 1,
   "id": "bronze-retailer",
   "metadata": {
    "execution": {
     "iopub.execute_input": "2021-06-04T01:49:06.725411Z",
     "iopub.status.busy": "2021-06-04T01:49:06.724456Z",
     "iopub.status.idle": "2021-06-04T01:49:12.992250Z",
     "shell.execute_reply": "2021-06-04T01:49:12.991491Z",
     "shell.execute_reply.started": "2021-06-04T01:48:30.481723Z"
    },
    "papermill": {
     "duration": 6.280255,
     "end_time": "2021-06-04T01:49:12.992430",
     "exception": false,
     "start_time": "2021-06-04T01:49:06.712175",
     "status": "completed"
    },
    "tags": []
   },
   "outputs": [],
   "source": [
    "import cv2\n",
    "import matplotlib.pyplot as plt\n",
    "import numpy as np\n",
    "import pandas as pd\n",
    "import time\n",
    "\n",
    "import tensorflow as tf\n",
    "from tensorflow.keras.preprocessing.image import ImageDataGenerator\n",
    "from tensorflow.keras.applications import MobileNetV2\n",
    "from tensorflow.keras.layers import AveragePooling2D\n",
    "from tensorflow.keras.layers import Dropout\n",
    "from tensorflow.keras.layers import Flatten\n",
    "from tensorflow.keras.layers import Dense\n",
    "from tensorflow.keras.layers import Input\n",
    "from tensorflow.keras.models import Model\n",
    "from tensorflow.keras.optimizers import Adam\n",
    "from tensorflow.keras.applications.mobilenet_v2 import preprocess_input\n",
    "from tensorflow.keras.callbacks import EarlyStopping\n",
    "from tensorflow.keras.callbacks import ModelCheckpoint\n",
    "from sklearn.metrics import classification_report\n",
    "import shutil\n",
    "import os"
   ]
  },
  {
   "cell_type": "code",
   "execution_count": 2,
   "id": "duplicate-alcohol",
   "metadata": {
    "execution": {
     "iopub.execute_input": "2021-06-04T01:49:13.026510Z",
     "iopub.status.busy": "2021-06-04T01:49:13.012914Z",
     "iopub.status.idle": "2021-06-04T01:49:33.962411Z",
     "shell.execute_reply": "2021-06-04T01:49:33.961839Z",
     "shell.execute_reply.started": "2021-06-04T01:48:32.746745Z"
    },
    "papermill": {
     "duration": 20.961794,
     "end_time": "2021-06-04T01:49:33.962544",
     "exception": false,
     "start_time": "2021-06-04T01:49:13.000750",
     "status": "completed"
    },
    "tags": []
   },
   "outputs": [
    {
     "name": "stdout",
     "output_type": "stream",
     "text": [
      "Collecting split-folders\r\n",
      "  Downloading split_folders-0.4.3-py3-none-any.whl (7.4 kB)\r\n",
      "Installing collected packages: split-folders\r\n",
      "Successfully installed split-folders-0.4.3\r\n",
      "Collecting gdown\r\n",
      "  Downloading gdown-3.13.0.tar.gz (9.3 kB)\r\n",
      "  Installing build dependencies ... \u001b[?25l-\b \b\\\b \b|\b \b/\b \b-\b \bdone\r\n",
      "\u001b[?25h  Getting requirements to build wheel ... \u001b[?25l-\b \bdone\r\n",
      "\u001b[?25h    Preparing wheel metadata ... \u001b[?25l-\b \bdone\r\n",
      "\u001b[?25hRequirement already satisfied: filelock in /opt/conda/lib/python3.7/site-packages (from gdown) (3.0.12)\r\n",
      "Requirement already satisfied: requests[socks]>=2.12.0 in /opt/conda/lib/python3.7/site-packages (from gdown) (2.25.1)\r\n",
      "Requirement already satisfied: six in /opt/conda/lib/python3.7/site-packages (from gdown) (1.15.0)\r\n",
      "Requirement already satisfied: tqdm in /opt/conda/lib/python3.7/site-packages (from gdown) (4.59.0)\r\n",
      "Requirement already satisfied: chardet<5,>=3.0.2 in /opt/conda/lib/python3.7/site-packages (from requests[socks]>=2.12.0->gdown) (4.0.0)\r\n",
      "Requirement already satisfied: urllib3<1.27,>=1.21.1 in /opt/conda/lib/python3.7/site-packages (from requests[socks]>=2.12.0->gdown) (1.26.4)\r\n",
      "Requirement already satisfied: idna<3,>=2.5 in /opt/conda/lib/python3.7/site-packages (from requests[socks]>=2.12.0->gdown) (2.10)\r\n",
      "Requirement already satisfied: certifi>=2017.4.17 in /opt/conda/lib/python3.7/site-packages (from requests[socks]>=2.12.0->gdown) (2020.12.5)\r\n",
      "Requirement already satisfied: PySocks!=1.5.7,>=1.5.6 in /opt/conda/lib/python3.7/site-packages (from requests[socks]>=2.12.0->gdown) (1.7.1)\r\n",
      "Building wheels for collected packages: gdown\r\n",
      "  Building wheel for gdown (PEP 517) ... \u001b[?25l-\b \bdone\r\n",
      "\u001b[?25h  Created wheel for gdown: filename=gdown-3.13.0-py3-none-any.whl size=9034 sha256=d56a3b462c17df8237089679bc66207ffc8e5cb33c75af2798a901c2b1646198\r\n",
      "  Stored in directory: /root/.cache/pip/wheels/2f/2a/2f/86449b6bdbaa9aef873f68332b68be6bfbc386b9219f47157d\r\n",
      "Successfully built gdown\r\n",
      "Installing collected packages: gdown\r\n",
      "Successfully installed gdown-3.13.0\r\n"
     ]
    }
   ],
   "source": [
    "!pip install split-folders\n",
    "!pip install gdown"
   ]
  },
  {
   "cell_type": "code",
   "execution_count": 3,
   "id": "likely-maria",
   "metadata": {
    "execution": {
     "iopub.execute_input": "2021-06-04T01:49:33.993141Z",
     "iopub.status.busy": "2021-06-04T01:49:33.992565Z",
     "iopub.status.idle": "2021-06-04T01:49:37.134192Z",
     "shell.execute_reply": "2021-06-04T01:49:37.134822Z",
     "shell.execute_reply.started": "2021-06-04T01:48:46.175283Z"
    },
    "papermill": {
     "duration": 3.159762,
     "end_time": "2021-06-04T01:49:37.135026",
     "exception": false,
     "start_time": "2021-06-04T01:49:33.975264",
     "status": "completed"
    },
    "tags": []
   },
   "outputs": [
    {
     "name": "stderr",
     "output_type": "stream",
     "text": [
      "Downloading...\n",
      "From: https://drive.google.com/uc?id=1-0pbqawPfRSSG1NYDNbdmmEfSSn7wM7N\n",
      "To: /kaggle/working/deploy.prototxt\n",
      "100%|██████████| 28.1k/28.1k [00:00<00:00, 30.0MB/s]\n",
      "Downloading...\n",
      "From: https://drive.google.com/uc?id=1dDbOtqSm8hnKVvKM2lDN9e_6fEFV5Ros\n",
      "To: /kaggle/working/res10_300x300_ssd_iter_140000_fp16.caffemodel\n",
      "5.35MB [00:00, 186MB/s]\n"
     ]
    },
    {
     "data": {
      "text/plain": [
       "'res10_300x300_ssd_iter_140000_fp16.caffemodel'"
      ]
     },
     "execution_count": 3,
     "metadata": {},
     "output_type": "execute_result"
    }
   ],
   "source": [
    "import gdown\n",
    "\n",
    "# download files for opencv nn ssd face detector model\n",
    "\n",
    "hello = '1-0pbqawPfRSSG1NYDNbdmmEfSSn7wM7N'\n",
    "url = 'https://drive.google.com/uc?id=' + hello\n",
    "gdown.download(url, 'deploy.prototxt', quiet=False)\n",
    "\n",
    "hello = '1dDbOtqSm8hnKVvKM2lDN9e_6fEFV5Ros'\n",
    "url = 'https://drive.google.com/uc?id=' + hello\n",
    "gdown.download(url, 'res10_300x300_ssd_iter_140000_fp16.caffemodel', quiet=False)"
   ]
  },
  {
   "cell_type": "code",
   "execution_count": 4,
   "id": "tired-extension",
   "metadata": {
    "execution": {
     "iopub.execute_input": "2021-06-04T01:49:37.167006Z",
     "iopub.status.busy": "2021-06-04T01:49:37.166129Z",
     "iopub.status.idle": "2021-06-04T01:49:37.221794Z",
     "shell.execute_reply": "2021-06-04T01:49:37.222183Z",
     "shell.execute_reply.started": "2021-06-04T01:48:49.713151Z"
    },
    "papermill": {
     "duration": 0.072607,
     "end_time": "2021-06-04T01:49:37.222362",
     "exception": false,
     "start_time": "2021-06-04T01:49:37.149755",
     "status": "completed"
    },
    "tags": []
   },
   "outputs": [],
   "source": [
    "# load the face detector model\n",
    "modelFile = \"res10_300x300_ssd_iter_140000_fp16.caffemodel\"\n",
    "configFile = \"deploy.prototxt\"\n",
    "net = cv2.dnn.readNetFromCaffe(configFile, modelFile)"
   ]
  },
  {
   "cell_type": "code",
   "execution_count": 5,
   "id": "afraid-acrylic",
   "metadata": {
    "execution": {
     "iopub.execute_input": "2021-06-04T01:49:37.255616Z",
     "iopub.status.busy": "2021-06-04T01:49:37.255017Z",
     "iopub.status.idle": "2021-06-04T01:49:39.415327Z",
     "shell.execute_reply": "2021-06-04T01:49:39.415855Z"
    },
    "papermill": {
     "duration": 2.179612,
     "end_time": "2021-06-04T01:49:39.416014",
     "exception": false,
     "start_time": "2021-06-04T01:49:37.236402",
     "status": "completed"
    },
    "tags": []
   },
   "outputs": [],
   "source": [
    "!mkdir no_split\n",
    "!mkdir no_split/correct\n",
    "!mkdir no_split/incorrect"
   ]
  },
  {
   "cell_type": "code",
   "execution_count": 6,
   "id": "heated-clearing",
   "metadata": {
    "execution": {
     "iopub.execute_input": "2021-06-04T01:49:39.446424Z",
     "iopub.status.busy": "2021-06-04T01:49:39.445905Z",
     "iopub.status.idle": "2021-06-04T01:49:40.189998Z",
     "shell.execute_reply": "2021-06-04T01:49:40.189519Z"
    },
    "papermill": {
     "duration": 0.760303,
     "end_time": "2021-06-04T01:49:40.190146",
     "exception": false,
     "start_time": "2021-06-04T01:49:39.429843",
     "status": "completed"
    },
    "tags": []
   },
   "outputs": [
    {
     "name": "stdout",
     "output_type": "stream",
     "text": [
      "__notebook__.ipynb  __results__.html   correct\r\n",
      "__output__.json     __results___files  custom.css\r\n"
     ]
    }
   ],
   "source": [
    "!ls ../input/cabani-correctly-masked/"
   ]
  },
  {
   "cell_type": "code",
   "execution_count": 7,
   "id": "adolescent-valentine",
   "metadata": {
    "execution": {
     "iopub.execute_input": "2021-06-04T01:49:40.229681Z",
     "iopub.status.busy": "2021-06-04T01:49:40.229025Z",
     "iopub.status.idle": "2021-06-04T02:39:08.093914Z",
     "shell.execute_reply": "2021-06-04T02:39:08.093466Z"
    },
    "papermill": {
     "duration": 2967.889535,
     "end_time": "2021-06-04T02:39:08.094036",
     "exception": false,
     "start_time": "2021-06-04T01:49:40.204501",
     "status": "completed"
    },
    "tags": []
   },
   "outputs": [
    {
     "name": "stderr",
     "output_type": "stream",
     "text": [
      "  0%|          | 1/10000 [00:00<28:30,  5.85it/s]"
     ]
    },
    {
     "name": "stdout",
     "output_type": "stream",
     "text": [
      "../input/cabani-correctly-masked/correct/\n"
     ]
    },
    {
     "name": "stderr",
     "output_type": "stream",
     "text": [
      "100%|██████████| 10000/10000 [14:49<00:00, 11.24it/s]\n"
     ]
    },
    {
     "name": "stdout",
     "output_type": "stream",
     "text": [
      "../input/cabani-correctly-masked/correct/ 4032\n"
     ]
    },
    {
     "name": "stderr",
     "output_type": "stream",
     "text": [
      "  0%|          | 2/10000 [00:00<16:01, 10.40it/s]"
     ]
    },
    {
     "name": "stdout",
     "output_type": "stream",
     "text": [
      "../input/cabani-incorrectly-masked/Mask_Mouth_Chin/\n"
     ]
    },
    {
     "name": "stderr",
     "output_type": "stream",
     "text": [
      "100%|██████████| 10000/10000 [16:42<00:00,  9.97it/s]\n"
     ]
    },
    {
     "name": "stdout",
     "output_type": "stream",
     "text": [
      "../input/cabani-incorrectly-masked/Mask_Mouth_Chin/ 1695\n"
     ]
    },
    {
     "name": "stderr",
     "output_type": "stream",
     "text": [
      "  0%|          | 1/4836 [00:00<08:33,  9.42it/s]"
     ]
    },
    {
     "name": "stdout",
     "output_type": "stream",
     "text": [
      "../input/cabani-incorrectly-masked/Mask_Chin/\n"
     ]
    },
    {
     "name": "stderr",
     "output_type": "stream",
     "text": [
      "100%|██████████| 4836/4836 [08:17<00:00,  9.73it/s]\n"
     ]
    },
    {
     "name": "stdout",
     "output_type": "stream",
     "text": [
      "../input/cabani-incorrectly-masked/Mask_Chin/ 558\n"
     ]
    },
    {
     "name": "stderr",
     "output_type": "stream",
     "text": [
      "  0%|          | 2/6245 [00:00<09:26, 11.02it/s]"
     ]
    },
    {
     "name": "stdout",
     "output_type": "stream",
     "text": [
      "../input/cabani-incorrectly-masked/Mask_Nose_Mouth/\n"
     ]
    },
    {
     "name": "stderr",
     "output_type": "stream",
     "text": [
      "100%|██████████| 6245/6245 [09:36<00:00, 10.83it/s]"
     ]
    },
    {
     "name": "stdout",
     "output_type": "stream",
     "text": [
      "../input/cabani-incorrectly-masked/Mask_Nose_Mouth/ 2033\n"
     ]
    },
    {
     "name": "stderr",
     "output_type": "stream",
     "text": [
      "\n"
     ]
    }
   ],
   "source": [
    "from tqdm import tqdm\n",
    "\n",
    "# crop the faces out from cabani dataset as the images will have wider range compared to xzhangyang's dataset\n",
    "# make the training dataset same as those detected faces later in practical testing phase\n",
    "\n",
    "output = {\n",
    "    'correct': ['./cabani/correct/'], \n",
    "    'incorrect': [\n",
    "        './cabani/Mask_Mouth_Chin/', \n",
    "        './cabani/Mask_Chin/', \n",
    "        './cabani/Mask_Nose_Mouth/'\n",
    "    ]\n",
    "}\n",
    "\n",
    "detection_failed = dict()\n",
    "\n",
    "for path, input_folders in output.items():\n",
    "    output_path = os.path.join('no_split', path)\n",
    "    \n",
    "    for input_folder in input_folders:\n",
    "        a = os.listdir(input_folder)\n",
    "        \n",
    "        detection_failed[input_folder] = 0\n",
    "        \n",
    "        print(input_folder)\n",
    "        for image_p in tqdm(a):\n",
    "            image_path = os.path.join(input_folder, image_p)\n",
    "            image = cv2.imread(image_path)\n",
    "\n",
    "            blob = cv2.dnn.blobFromImage(cv2.resize(image, (300, 300)), 1.0, (300, 300), (104.0, 177.0, 123.0))\n",
    "            net.setInput(blob)\n",
    "            detections = net.forward()\n",
    "\n",
    "            image = cv2.cvtColor(image, cv2.COLOR_BGR2RGB)\n",
    "\n",
    "            h, w, _ = image.shape\n",
    "\n",
    "            i = 0\n",
    "            confidence = detections[0, 0, i, 2]\n",
    "            box = detections[0, 0, i, 3:]\n",
    "            box = box * np.array([w, h, w, h])\n",
    "            (startX, startY, endX, endY) = box.astype(\"int\")\n",
    "            if endX > w or endX > h or startX < 0 or startY < 0:\n",
    "                detection_failed[input_folder] += 1\n",
    "                continue\n",
    "\n",
    "            face = image[startY:endY, startX:endX]\n",
    "\n",
    "            plt.imsave(os.path.join(output_path, image_p), face)\n",
    "            \n",
    "        print(input_folder, detection_failed[input_folder])"
   ]
  },
  {
   "cell_type": "code",
   "execution_count": 8,
   "id": "diagnostic-table",
   "metadata": {
    "execution": {
     "iopub.execute_input": "2021-06-04T02:39:15.544078Z",
     "iopub.status.busy": "2021-06-04T02:39:15.543197Z",
     "iopub.status.idle": "2021-06-04T02:39:18.375020Z",
     "shell.execute_reply": "2021-06-04T02:39:18.374051Z"
    },
    "papermill": {
     "duration": 6.532775,
     "end_time": "2021-06-04T02:39:18.375211",
     "exception": false,
     "start_time": "2021-06-04T02:39:11.842436",
     "status": "completed"
    },
    "tags": []
   },
   "outputs": [
    {
     "name": "stderr",
     "output_type": "stream",
     "text": [
      "Downloading...\n",
      "From: https://drive.google.com/uc?id=1_vaq_6opGjkWWk_bNa6kEyYfFy3PDMgi\n",
      "To: /kaggle/working/no_mask.zip\n",
      "65.3MB [00:00, 65.4MB/s]\n"
     ]
    },
    {
     "data": {
      "text/plain": [
       "'no_mask.zip'"
      ]
     },
     "execution_count": 8,
     "metadata": {},
     "output_type": "execute_result"
    }
   ],
   "source": [
    "# download unmasked dataset from XZhangYang's dataset\n",
    "\n",
    "import gdown\n",
    "\n",
    "hello = '1_vaq_6opGjkWWk_bNa6kEyYfFy3PDMgi'\n",
    "\n",
    "url = 'https://drive.google.com/uc?id=' + hello\n",
    "gdown.download(url, 'no_mask.zip', quiet=False)"
   ]
  },
  {
   "cell_type": "code",
   "execution_count": 9,
   "id": "illegal-ethnic",
   "metadata": {
    "execution": {
     "iopub.execute_input": "2021-06-04T02:39:25.855927Z",
     "iopub.status.busy": "2021-06-04T02:39:25.849228Z",
     "iopub.status.idle": "2021-06-04T02:39:27.632245Z",
     "shell.execute_reply": "2021-06-04T02:39:27.631533Z"
    },
    "papermill": {
     "duration": 5.525223,
     "end_time": "2021-06-04T02:39:27.632407",
     "exception": false,
     "start_time": "2021-06-04T02:39:22.107184",
     "status": "completed"
    },
    "tags": []
   },
   "outputs": [],
   "source": [
    "!unzip -q no_mask"
   ]
  },
  {
   "cell_type": "code",
   "execution_count": 10,
   "id": "enormous-velvet",
   "metadata": {
    "execution": {
     "iopub.execute_input": "2021-06-04T02:39:35.147403Z",
     "iopub.status.busy": "2021-06-04T02:39:35.146852Z",
     "iopub.status.idle": "2021-06-04T02:39:36.167159Z",
     "shell.execute_reply": "2021-06-04T02:39:36.166175Z"
    },
    "papermill": {
     "duration": 4.795672,
     "end_time": "2021-06-04T02:39:36.167329",
     "exception": false,
     "start_time": "2021-06-04T02:39:31.371657",
     "status": "completed"
    },
    "tags": []
   },
   "outputs": [],
   "source": [
    "# combine the two datasets\n",
    "e = shutil.copytree(\"./unmasked\", \"./no_split/no_mask\")"
   ]
  },
  {
   "cell_type": "code",
   "execution_count": 11,
   "id": "cleared-terrain",
   "metadata": {
    "execution": {
     "iopub.execute_input": "2021-06-04T02:39:43.605411Z",
     "iopub.status.busy": "2021-06-04T02:39:43.604881Z",
     "iopub.status.idle": "2021-06-04T02:39:45.192063Z",
     "shell.execute_reply": "2021-06-04T02:39:45.191378Z"
    },
    "papermill": {
     "duration": 5.306993,
     "end_time": "2021-06-04T02:39:45.192195",
     "exception": false,
     "start_time": "2021-06-04T02:39:39.885202",
     "status": "completed"
    },
    "tags": []
   },
   "outputs": [
    {
     "name": "stderr",
     "output_type": "stream",
     "text": [
      "Downloading...\n",
      "From: https://drive.google.com/uc?id=1uXCJJiRdnTYd2u1158uxSpUNpSHHbu5l\n",
      "To: /kaggle/working/masked.zip\n",
      "34.3MB [00:00, 98.1MB/s]\n"
     ]
    },
    {
     "data": {
      "text/plain": [
       "'masked.zip'"
      ]
     },
     "execution_count": 11,
     "metadata": {},
     "output_type": "execute_result"
    }
   ],
   "source": [
    "# download masked dataset from XZhangYang's dataset\n",
    "\n",
    "import gdown\n",
    "\n",
    "hello = '1uXCJJiRdnTYd2u1158uxSpUNpSHHbu5l'\n",
    "\n",
    "url = 'https://drive.google.com/uc?id=' + hello\n",
    "gdown.download(url, 'masked.zip', quiet=False)"
   ]
  },
  {
   "cell_type": "code",
   "execution_count": 12,
   "id": "located-console",
   "metadata": {
    "execution": {
     "iopub.execute_input": "2021-06-04T02:39:52.597814Z",
     "iopub.status.busy": "2021-06-04T02:39:52.591805Z",
     "iopub.status.idle": "2021-06-04T02:39:53.646234Z",
     "shell.execute_reply": "2021-06-04T02:39:53.646671Z"
    },
    "papermill": {
     "duration": 4.722466,
     "end_time": "2021-06-04T02:39:53.646846",
     "exception": false,
     "start_time": "2021-06-04T02:39:48.924380",
     "status": "completed"
    },
    "tags": []
   },
   "outputs": [],
   "source": [
    "!unzip -q masked"
   ]
  },
  {
   "cell_type": "code",
   "execution_count": 13,
   "id": "professional-phone",
   "metadata": {
    "execution": {
     "iopub.execute_input": "2021-06-04T02:40:01.111949Z",
     "iopub.status.busy": "2021-06-04T02:40:01.111328Z",
     "iopub.status.idle": "2021-06-04T02:40:01.329523Z",
     "shell.execute_reply": "2021-06-04T02:40:01.328983Z"
    },
    "papermill": {
     "duration": 3.937617,
     "end_time": "2021-06-04T02:40:01.329681",
     "exception": false,
     "start_time": "2021-06-04T02:39:57.392064",
     "status": "completed"
    },
    "tags": []
   },
   "outputs": [],
   "source": [
    "# combine the two datasets\n",
    "for masked_image in os.listdir('masked'):\n",
    "    shutil.copy(os.path.join('masked', masked_image), os.path.join('./no_split/correct/', 'xzy_'+masked_image))"
   ]
  },
  {
   "cell_type": "code",
   "execution_count": 14,
   "id": "complete-illinois",
   "metadata": {
    "execution": {
     "iopub.execute_input": "2021-06-04T02:40:08.980107Z",
     "iopub.status.busy": "2021-06-04T02:40:08.979433Z",
     "iopub.status.idle": "2021-06-04T02:40:15.313653Z",
     "shell.execute_reply": "2021-06-04T02:40:15.314482Z"
    },
    "papermill": {
     "duration": 10.221533,
     "end_time": "2021-06-04T02:40:15.314673",
     "exception": false,
     "start_time": "2021-06-04T02:40:05.093140",
     "status": "completed"
    },
    "tags": []
   },
   "outputs": [
    {
     "name": "stderr",
     "output_type": "stream",
     "text": [
      "Copying files: 34966 files [00:06, 5526.99 files/s]\n"
     ]
    }
   ],
   "source": [
    "# split the dataset into train, test and val\n",
    "import splitfolders\n",
    "splitfolders.ratio('no_split', output=\"split\", seed=69, ratio=(.7, 0.15,0.15)) "
   ]
  }
 ],
 "metadata": {
  "kernelspec": {
   "display_name": "Python 3",
   "language": "python",
   "name": "python3"
  },
  "language_info": {
   "codemirror_mode": {
    "name": "ipython",
    "version": 3
   },
   "file_extension": ".py",
   "mimetype": "text/x-python",
   "name": "python",
   "nbconvert_exporter": "python",
   "pygments_lexer": "ipython3",
   "version": "3.9.5"
  },
  "papermill": {
   "default_parameters": {},
   "duration": 3081.191631,
   "end_time": "2021-06-04T02:40:20.962443",
   "environment_variables": {},
   "exception": null,
   "input_path": "__notebook__.ipynb",
   "output_path": "__notebook__.ipynb",
   "parameters": {},
   "start_time": "2021-06-04T01:48:59.770812",
   "version": "2.3.3"
  }
 },
 "nbformat": 4,
 "nbformat_minor": 5
}
